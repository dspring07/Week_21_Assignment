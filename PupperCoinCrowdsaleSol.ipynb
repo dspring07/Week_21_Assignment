{
 "cells": [
  {
   "cell_type": "code",
   "execution_count": null,
   "id": "476f5247-af06-4e82-a44b-01dc9ce2f33d",
   "metadata": {},
   "outputs": [],
   "source": [
    "pragma solidity ^0.5.0;\n",
    "\n",
    "import \"./PupperCoin.sol\";\n",
    "import \"https://github.com/OpenZeppelin/openzeppelin-contracts/blob/release-v2.5.0/contracts/crowdsale/Crowdsale.sol\";\n",
    "import \"https://github.com/OpenZeppelin/openzeppelin-contracts/blob/release-v2.5.0/contracts/crowdsale/emission/MintedCrowdsale.sol\";\n",
    "import \"https://github.com/OpenZeppelin/openzeppelin-contracts/blob/release-v2.5.0/contracts/crowdsale/validation/CappedCrowdsale.sol\";\n",
    "import \"https://github.com/OpenZeppelin/openzeppelin-contracts/blob/release-v2.5.0/contracts/crowdsale/validation/TimedCrowdsale.sol\";\n",
    "import \"https://github.com/OpenZeppelin/openzeppelin-contracts/blob/release-v2.5.0/contracts/crowdsale/distribution/RefundablePostDeliveryCrowdsale.sol\";\n",
    "\n",
    "// Create the crowdsale contracts\n",
    "\n",
    "contract PupperCoinSale is Crowdsale, MintedCrowdsale, CappedCrowdsale, TimedCrowdsale, RefundablePostDeliveryCrowdsale {\n",
    "\n",
    "// Fill in the constructor parameters\n",
    "    constructor(uint rate, address payable wallet, PupperCoin token, uint open, uint close, uint goal) \n",
    "    \n",
    "//  Add the details for the constrtuctor PupperCoin, PCT, 0x5B38Da6a701c568545dCfcB03FcB875f56beddC4, 5:    \n",
    "//Pass the constructor parameters to the crowdsale contracts.\n",
    "        Crowdsale(rate, wallet, token)\n",
    "        MintedCrowdsale()\n",
    "        TimedCrowdsale(open,close)\n",
    "        CappedCrowdsale(goal)\n",
    "        PostDeliveryCrowdsale()\n",
    "        RefundableCrowdsale(goal)\n",
    " \n",
    "        public {\n",
    "    }\n",
    "    \n",
    "}\n",
    "    \n",
    "\n",
    "contract PupperCoinSaleDeployer { \n",
    "\n",
    "    address public token_sale_address;\n",
    "    address public token_address;\n",
    "\n",
    "//  Add the details for the constructor:   PupperCoin, PCT, 0x5B38Da6a701c568545dCfcB03FcB875f56beddC4, 5\n",
    "\n",
    "    constructor(string memory name,string memory symbol, address payable wallet, uint goal\n",
    "    )\n",
    "        public\n",
    "    {\n",
    "        // Create the PupperCoin\n",
    "        \n",
    "        PupperCoin token = new PupperCoin(name, symbol, 0);\n",
    "        token_address = address(token);\n",
    "        // Create the PupperCoinSale and tell it about the token, set the goal, and set the open and close times to now and now + 24 weeks.\n",
    "        PupperCoinSale pupper_sale = new PupperCoinSale(1, wallet, token, now, now + 24 weeks, goal);\n",
    "        token_sale_address = address(pupper_sale);\n",
    "        // make the PupperCoinSale contract a minter, then have the PupperCoinSaleDeployer renounce its minter role\n",
    "        \n",
    "        token.addMinter(token_sale_address);\n",
    "        token.renounceMinter();\n",
    "    }\n",
    "}\n"
   ]
  }
 ],
 "metadata": {
  "kernelspec": {
   "display_name": "",
   "name": ""
  },
  "language_info": {
   "name": ""
  }
 },
 "nbformat": 4,
 "nbformat_minor": 5
}
